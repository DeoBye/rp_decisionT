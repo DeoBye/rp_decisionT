{
 "cells": [
  {
   "cell_type": "code",
   "execution_count": 1,
   "metadata": {},
   "outputs": [
    {
     "name": "stderr",
     "output_type": "stream",
     "text": [
      "2023-11-23 13:37:13.280029: I external/local_tsl/tsl/cuda/cudart_stub.cc:31] Could not find cuda drivers on your machine, GPU will not be used.\n",
      "2023-11-23 13:37:13.305865: E external/local_xla/xla/stream_executor/cuda/cuda_dnn.cc:9261] Unable to register cuDNN factory: Attempting to register factory for plugin cuDNN when one has already been registered\n",
      "2023-11-23 13:37:13.305885: E external/local_xla/xla/stream_executor/cuda/cuda_fft.cc:607] Unable to register cuFFT factory: Attempting to register factory for plugin cuFFT when one has already been registered\n",
      "2023-11-23 13:37:13.306609: E external/local_xla/xla/stream_executor/cuda/cuda_blas.cc:1515] Unable to register cuBLAS factory: Attempting to register factory for plugin cuBLAS when one has already been registered\n",
      "2023-11-23 13:37:13.310663: I external/local_tsl/tsl/cuda/cudart_stub.cc:31] Could not find cuda drivers on your machine, GPU will not be used.\n",
      "2023-11-23 13:37:13.311012: I tensorflow/core/platform/cpu_feature_guard.cc:182] This TensorFlow binary is optimized to use available CPU instructions in performance-critical operations.\n",
      "To enable the following instructions: AVX2 FMA, in other operations, rebuild TensorFlow with the appropriate compiler flags.\n"
     ]
    },
    {
     "data": {
      "text/plain": [
       "'2.15.0'"
      ]
     },
     "execution_count": 1,
     "metadata": {},
     "output_type": "execute_result"
    }
   ],
   "source": [
    "import tensorflow as tf\n",
    "import numpy as np\n",
    "tf.__version__"
   ]
  },
  {
   "cell_type": "code",
   "execution_count": 2,
   "metadata": {},
   "outputs": [],
   "source": [
    "mnist = tf.keras.datasets.mnist\n",
    "(train_images, train_labels), (test_images, test_labels) = mnist.load_data()\n",
    "# train_images = train_images[:3000]\n",
    "# train_labels = train_labels[:3000]\n",
    "# test_images = test_images[:1000]\n",
    "# test_labels = test_labels[:1000]\n",
    "\n",
    "train_images = np.asarray([x.flatten() for x in train_images])\n",
    "test_images = np.asarray([x.flatten() for x in test_images])"
   ]
  },
  {
   "cell_type": "code",
   "execution_count": 3,
   "metadata": {},
   "outputs": [],
   "source": [
    "\n",
    "def get_random_projection(x, size):\n",
    "    P = np.array(range(x.shape[1]))\n",
    "    np.random.shuffle(P)\n",
    "    return P[:size]"
   ]
  },
  {
   "cell_type": "code",
   "execution_count": 4,
   "metadata": {},
   "outputs": [],
   "source": [
    "from sklearn import tree\n",
    "from sklearn.metrics import accuracy_score\n",
    "from tqdm import tqdm"
   ]
  },
  {
   "cell_type": "code",
   "execution_count": 5,
   "metadata": {},
   "outputs": [],
   "source": [
    "component = 150\n",
    "count = 1000\n",
    "\n",
    "projections = np.array([get_random_projection(train_images, component) for _ in range(count)])"
   ]
  },
  {
   "cell_type": "code",
   "execution_count": 6,
   "metadata": {},
   "outputs": [
    {
     "name": "stderr",
     "output_type": "stream",
     "text": [
      "100%|██████████| 1000/1000 [00:42<00:00, 23.33it/s]\n"
     ]
    }
   ],
   "source": [
    "mapped_trains = []\n",
    "mapped_tests = []\n",
    "for projection in tqdm(projections):\n",
    "    mapped_trains.append(train_images[:, projection])\n",
    "    mapped_tests.append(test_images[:, projection])"
   ]
  },
  {
   "cell_type": "code",
   "execution_count": null,
   "metadata": {},
   "outputs": [],
   "source": [
    "accuracy = 0\n",
    "record = 0\n",
    "idx = 0\n",
    "for mapped_x in mapped_trains:\n",
    "    clf = tree.DecisionTreeClassifier()\n",
    "    clf = clf.fit(mapped_x, train_labels)\n",
    "    print(idx)\n",
    "    print(mapped_tests[idx].shape)\n",
    "    pred = clf.predict(mapped_tests[idx])\n",
    "    acc = accuracy_score(test_labels, pred)\n",
    "    if acc > accuracy:\n",
    "        accuracy = acc\n",
    "        record = idx\n",
    "        print(acc)\n",
    "    idx = idx + 1"
   ]
  }
 ],
 "metadata": {
  "kernelspec": {
   "display_name": "Python 3",
   "language": "python",
   "name": "python3"
  },
  "language_info": {
   "codemirror_mode": {
    "name": "ipython",
    "version": 3
   },
   "file_extension": ".py",
   "mimetype": "text/x-python",
   "name": "python",
   "nbconvert_exporter": "python",
   "pygments_lexer": "ipython3",
   "version": "3.11.0"
  }
 },
 "nbformat": 4,
 "nbformat_minor": 2
}
